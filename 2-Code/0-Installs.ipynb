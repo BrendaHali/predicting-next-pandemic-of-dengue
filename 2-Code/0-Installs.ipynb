{
 "cells": [
  {
   "cell_type": "markdown",
   "metadata": {},
   "source": [
    "Requiremenst to run the notebooks in this repository"
   ]
  },
  {
   "cell_type": "code",
   "execution_count": null,
   "metadata": {},
   "outputs": [],
   "source": [
    "!pip install __future__\n",
    "!pip install pandas\n",
    "!pip install numpy\n",
    "!pip install seaborn\n",
    "!pip install matplotlib\n",
    "!pip install sklearn\n",
    "!pip install statsmodels\n",
    "!pip install --upgrade plotly  #We need the last versions to make interactive plots\n",
    "!pip install tabpy-server"
   ]
  },
  {
   "cell_type": "code",
   "execution_count": null,
   "metadata": {},
   "outputs": [],
   "source": [
    "#For fbprophet - If you are using a mac, it is requiered to install Xcodefrom the Apple store\n",
    "#Recommendation, after installing the libraries, restart your computer. \n",
    "!pip install cython\n",
    "!pip install pystan\n",
    "!pip install fbprophet"
   ]
  }
 ],
 "metadata": {
  "kernelspec": {
   "display_name": "Python 3",
   "language": "python",
   "name": "python3"
  },
  "language_info": {
   "codemirror_mode": {
    "name": "ipython",
    "version": 3
   },
   "file_extension": ".py",
   "mimetype": "text/x-python",
   "name": "python",
   "nbconvert_exporter": "python",
   "pygments_lexer": "ipython3",
   "version": "3.7.3"
  }
 },
 "nbformat": 4,
 "nbformat_minor": 4
}
